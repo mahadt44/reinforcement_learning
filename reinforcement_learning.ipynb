{
 "cells": [
  {
   "cell_type": "markdown",
   "metadata": {
    "id": "boKaBfbr2pQV"
   },
   "source": [
    "# Reinforcement Learning II: $Q$-learning"
   ]
  },
  {
   "cell_type": "code",
   "execution_count": 2,
   "metadata": {
    "id": "a4b_ZHhs2pQZ"
   },
   "outputs": [],
   "source": [
    "import numpy as np\n",
    "import matplotlib.pyplot as plt\n",
    "\n",
    "%matplotlib inline"
   ]
  },
  {
   "cell_type": "markdown",
   "metadata": {
    "id": "hVU6C4Nd2pQc"
   },
   "source": [
    "In this notebook we will investigate Q-learning and how to deal with an unknown state space. Therefore we define a class which stores q values in a lookup table."
   ]
  },
  {
   "cell_type": "code",
   "execution_count": 1,
   "metadata": {
    "id": "_ydhK_UO2pQc"
   },
   "outputs": [],
   "source": [
    "class QValues(object):\n",
    "\n",
    "    def __init__(self):\n",
    "        '''Initialize with empty lookup table.'''\n",
    "        self.values = {}\n",
    "\n",
    "    def get_value(self, state, action):\n",
    "        '''Return stored q value for (state, action) pair or a random number if unknown.'''\n",
    "        if not state in self.values:\n",
    "            self.values[state] = {}\n",
    "        if not action in self.values[state]:\n",
    "            self.values[state][action] = abs(np.random.randn()) + 1\n",
    "        return self.values[state][action]\n",
    "\n",
    "    def set_value(self, state, action, value):\n",
    "        '''Stored q value for (state, action) pair.'''\n",
    "        if not state in self.values:\n",
    "            self.values[state] = {}\n",
    "        if not action in self.values[state]:\n",
    "            self.values[state][action] = 0\n",
    "\n",
    "        self.values[state][action] = value\n",
    "\n",
    "    def max_action(self, state, actions, learning=True):\n",
    "        '''Return the action with highest q value for given state and action list.'''\n",
    "        if not learning and not state in self.values:\n",
    "            return actions[0] if actions else None\n",
    "\n",
    "        max_value = -np.inf\n",
    "        max_action = actions[0] if actions else None\n",
    "        for action in actions:\n",
    "            if not learning and not action in self.values[state]:\n",
    "                continue\n",
    "\n",
    "            value = self.get_value(state, action)\n",
    "            if value > max_value:\n",
    "                max_value = value\n",
    "                max_action = action\n",
    "            elif value == max_value and learning:\n",
    "                max_action = np.random.choice([max_action, action])\n",
    "        return max_action\n",
    "\n",
    "    def epsilon_greedy(self, state, actions, epsilon):\n",
    "        '''Returns max_action or random action with probability of epsilon.'''\n",
    "        if np.random.rand() < epsilon:\n",
    "            return np.random.choice(actions)\n",
    "        return self.max_action(state, actions)\n",
    "\n",
    "    def __str__(self):\n",
    "        nr_states = len(self.values.keys())\n",
    "        return 'Number of states: {}'.format(nr_states)"
   ]
  },
  {
   "cell_type": "markdown",
   "metadata": {
    "id": "j_p5Kn7k2pQd"
   },
   "source": [
    "We can now add $(state, action)$ pairs to $Q$ and request pairs we haven’t set yet (which get initialised randomly)."
   ]
  },
  {
   "cell_type": "code",
   "execution_count": 3,
   "metadata": {
    "id": "a42AFhsz2pQe"
   },
   "outputs": [
    {
     "name": "stdout",
     "output_type": "stream",
     "text": [
      "0.5\n",
      "1.34878804395466\n",
      "{0: {'down': 1.2, 'left': 0.5}, 1: {'up': 1.34878804395466}}\n"
     ]
    }
   ],
   "source": [
    "q = QValues()\n",
    "q.set_value(0, 'down', 1.2) #state,action, value\n",
    "q.set_value(0, 'left', 0.5)\n",
    "print(q.get_value(0, 'left'))\n",
    "print(q.get_value(1, 'up'))\n",
    "print(q.values)"
   ]
  },
  {
   "cell_type": "markdown",
   "metadata": {
    "id": "H9LW90Z_2pQe"
   },
   "source": [
    "We can also request the action with the highest q value in a given state $s$ for a list of actions. For the Monte Carlo approch we can also request the action with the highest q value with an $\\epsilon$ chance of getting a random action."
   ]
  },
  {
   "cell_type": "code",
   "execution_count": 4,
   "metadata": {
    "id": "ckuPZePB2pQg"
   },
   "outputs": [
    {
     "name": "stdout",
     "output_type": "stream",
     "text": [
      "down\n",
      "down\n",
      "left\n",
      "down\n",
      "left\n",
      "down\n",
      "left\n",
      "left\n",
      "left\n",
      "left\n",
      "left\n",
      "----------\n",
      "down\n",
      "down\n",
      "down\n",
      "down\n",
      "down\n",
      "down\n",
      "down\n",
      "down\n",
      "down\n",
      "down\n"
     ]
    }
   ],
   "source": [
    "print(q.max_action(0, ['down', 'left']))\n",
    "for _ in range(10):\n",
    "    print(q.epsilon_greedy(0, ['down', 'left'], epsilon=1.))\n",
    "\n",
    "print('----------')\n",
    "\n",
    "for _ in range(10):\n",
    "    print(q.epsilon_greedy(0, ['down', 'left'], epsilon=0.05))\n"
   ]
  },
  {
   "cell_type": "markdown",
   "metadata": {
    "id": "S2YqqcgB2pQg"
   },
   "source": [
    "Instead of an MDP we model the world as an environment. It holds the current state (e.g. coordinates of a robot) and defines the allowed actions in the current state (e.g. according to the current coordinates \"drive left\" or \"drive ahead\"). It allows the execution of an action and returns the next state and the reward for the action. "
   ]
  },
  {
   "cell_type": "code",
   "execution_count": 5,
   "metadata": {
    "id": "GD4HjHFc2pQh"
   },
   "outputs": [],
   "source": [
    "class Environment(object):\n",
    "\n",
    "    def __init__(self):\n",
    "        '''Initialise  environment.'''\n",
    "        pass\n",
    "\n",
    "    def reset(self):\n",
    "        '''Reset environment to initial state.'''\n",
    "        pass\n",
    "\n",
    "    def get_state(self):\n",
    "        '''Return current state.'''\n",
    "        pass\n",
    "\n",
    "    def get_actions(self):\n",
    "        '''Return all allowed actions as list (might be empty).'''\n",
    "        pass\n",
    "\n",
    "    def execute(self, action):\n",
    "        '''Set internal state to the new state according to action and return (new_state, reward) tuple.'''\n",
    "        pass"
   ]
  },
  {
   "cell_type": "markdown",
   "metadata": {
    "id": "pjyl6OVM2pQi"
   },
   "source": [
    "The following code is just a helper function to display a grid world example."
   ]
  },
  {
   "cell_type": "code",
   "execution_count": 6,
   "metadata": {
    "collapsed": true,
    "id": "Jlxk_rY82pQi"
   },
   "outputs": [],
   "source": [
    "def draw_gridworld(env, path=[]):\n",
    "    plt.plot()\n",
    "    plt.xlim(-1, 2)\n",
    "    plt.ylim(3, -1)\n",
    "    plt.grid()\n",
    "    plt.xticks([0,1])\n",
    "    plt.yticks([0,1,2])\n",
    "    plt.gca().set_xticklabels([])\n",
    "    plt.gca().set_yticklabels([])\n",
    "\n",
    "    plt.annotate('goal ' + str(env.goal), (env.goal[0]+0.25, env.goal[1]+0.5))\n",
    "    plt.annotate('start' + str(env.start), (env.start[0]+0.25, env.start[1]+0.5))\n",
    "    for (x1, y1), (x2, y2) in env.walls:\n",
    "        if x1 == x2:\n",
    "            plt.plot([x1, x1+1],[max(y1,y2), max(y1,y2)], c='k')\n",
    "        else:\n",
    "            plt.plot([max(x1,x2), max(x1,x2)], [min(y1, y2), min(y1, y2)+1], c='k')\n",
    "    for (x,y), action in path:\n",
    "        plt.scatter(x+0.5, y+0.5, s=100, marker={'left': '<', 'right':'>','up':'^', 'down':'v'}[action])"
   ]
  },
  {
   "cell_type": "markdown",
   "metadata": {
    "id": "8H10Crvp2pQj"
   },
   "source": [
    "Lets define a grid word example as environment. We have a start, goal and current position. Each position is given in (x,y)-coordinates. The get_actions method allows 'left', 'right', 'up' and 'down' in any position except the final one. The reward for each action is -1. See how we can generate and infinite state space by just walking endless in one direction."
   ]
  },
  {
   "cell_type": "code",
   "execution_count": null,
   "metadata": {
    "id": "KW6krC_X2pQj"
   },
   "outputs": [],
   "source": [
    "class GridWorld(Environment):\n",
    "\n",
    "    def __init__(self):\n",
    "        self.start = (0, 0)\n",
    "        self.goal = (0, 1)\n",
    "        self.position = (0, 0)\n",
    "        self.walls = []\n",
    "\n",
    "    def reset(self):\n",
    "        self.position = self.start\n",
    "\n",
    "    def get_state(self):\n",
    "        return self.position\n",
    "\n",
    "    def get_actions(self):\n",
    "        return [] if self.position == self.goal else ['left', 'right', 'up', 'down']\n",
    "\n",
    "    def execute(self, action):\n",
    "        position = self.get_state()\n",
    "        move = {'left':(-1,0), 'right':(1,0), 'up':(0,-1), 'down':(0,1)}[action]\n",
    "        self.position = (position[0] + move[0], position[1] + move[1])\n",
    "\n",
    "        reward = -1.\n",
    "        return position, reward\n",
    "\n",
    "    def draw(self, path=[]):\n",
    "        draw_gridworld(self, path)"
   ]
  },
  {
   "cell_type": "markdown",
   "metadata": {
    "id": "7dUfuPtX2pQj"
   },
   "source": [
    "For visualisation we display only the states around the start and goal."
   ]
  },
  {
   "cell_type": "code",
   "execution_count": 8,
   "metadata": {
    "id": "p652YmhX2pQk"
   },
   "outputs": [
    {
     "data": {
      "image/png": "[encoded data removed]",
      "text/plain": [
       "<Figure size 640x480 with 1 Axes>"
      ]
     },
     "metadata": {},
     "output_type": "display_data"
    }
   ],
   "source": [
    "GridWorld().draw()"
   ]
  },
  {
   "cell_type": "markdown",
   "metadata": {
    "collapsed": false,
    "id": "N670vl9_2pQk"
   },
   "source": [
    "The following code shows how $Q$-learning can be implemented. Our implementation will use the environment to read the current state, get the possible actions and get the reward after choosing an action.\n",
    "\n",
    "#### Q-learning Algorithm:\n",
    "\n",
    "Initialize $Q(s,a)$ arbitrarily<br>\n",
    "Repeat (for each episode):<br>\n",
    "&nbsp;&nbsp;&nbsp;&nbsp;Initialize $s$<br>\n",
    "&nbsp;&nbsp;&nbsp;&nbsp;Repeat (for each step of episode):<br>\n",
    "&nbsp;&nbsp;&nbsp;&nbsp;&nbsp;&nbsp;&nbsp;&nbsp;Choose $a$ from $s$ using policy derived from $Q$ by $\\epsilon$-greedy<br>\n",
    "&nbsp;&nbsp;&nbsp;&nbsp;&nbsp;&nbsp;&nbsp;&nbsp;Take action $a$, observe $r, s'$<br>\n",
    "&nbsp;&nbsp;&nbsp;&nbsp;&nbsp;&nbsp;&nbsp;&nbsp;$Q(s,a) \\leftarrow Q(s,a) + \\alpha [r+ \\gamma $max$_{a'}Q(s',a')-Q(s,a)]$<br>\n",
    "&nbsp;&nbsp;&nbsp;&nbsp;&nbsp;&nbsp;&nbsp;&nbsp;$s \\leftarrow s'$<br>\n",
    "&nbsp;&nbsp;&nbsp;&nbsp;until $s$ terminal<br>\n",
    "Output $Q$"
   ]
  },
  {
   "cell_type": "code",
   "execution_count": 9,
   "metadata": {
    "id": "ItPCv84t2pQl"
   },
   "outputs": [],
   "source": [
    "def q_learning(env, q=None, nr_episodes=100, nr_steps=100, epsilon=0.1, alpha=0.1, gamma=0.98):\n",
    "    if not q:\n",
    "        q = QValues()\n",
    "\n",
    "    for _ in range(nr_episodes):\n",
    "        env.reset()\n",
    "        for _ in range(nr_steps):\n",
    "            state = env.get_state()\n",
    "            actions = env.get_actions()\n",
    "            if not actions:\n",
    "                break # final state reached\n",
    "\n",
    "            action = q.epsilon_greedy(state, actions, epsilon)\n",
    "            q_old = q.get_value(state, action)\n",
    "\n",
    "            _, reward = env.execute(action) #take action\n",
    "            next_state = env.get_state()\n",
    "            next_max_action = q.max_action(next_state, env.get_actions())\n",
    "            q_next = q.get_value(next_state, next_max_action)\n",
    "\n",
    "            q_new = q_old + alpha * (reward + gamma * q_next - q_old)\n",
    "            q.set_value(state, action, q_new)\n",
    "    return q"
   ]
  },
  {
   "cell_type": "markdown",
   "metadata": {
    "collapsed": true,
    "id": "9fcbU_Hw2pQm"
   },
   "source": [
    "We can now use the algorithm to derive $Q$ for the grid word example. From $Q$ we can get an optimal path by always choosing the actions with the highest expected reward."
   ]
  },
  {
   "cell_type": "code",
   "execution_count": 22,
   "metadata": {
    "id": "2nNo9Sx72pQm"
   },
   "outputs": [
    {
     "name": "stdout",
     "output_type": "stream",
     "text": [
      "(0, 0) down -> (0, 0)\n"
     ]
    },
    {
     "data": {
      "image/png": "[encoded data removed]",
      "text/plain": [
       "<Figure size 640x480 with 1 Axes>"
      ]
     },
     "metadata": {},
     "output_type": "display_data"
    }
   ],
   "source": [
    "env = GridWorld()\n",
    "q = q_learning(env, nr_episodes=100, nr_steps=100)\n",
    "\n",
    "env.reset()\n",
    "best_path = []\n",
    "for _ in range (10):\n",
    "    state = env.get_state()\n",
    "    actions = env.get_actions()\n",
    "    if not actions:\n",
    "        break # final state reached\n",
    "\n",
    "    action = q.max_action(state, actions, learning=False)\n",
    "    next_state, _ = env.execute(action)\n",
    "    print(state, action, '->', next_state)\n",
    "\n",
    "    best_path.append((state, action))\n",
    "\n",
    "env.draw(best_path)"
   ]
  },
  {
   "cell_type": "markdown",
   "metadata": {
    "id": "uDL0tzci2pQm"
   },
   "source": [
    "As expected it was learned that the best state-action value from the initial state is down to the final state. Notice that during learning much more states where visited due to $\\epsilon$-greedy policy."
   ]
  },
  {
   "cell_type": "code",
   "execution_count": 21,
   "metadata": {
    "id": "5JHojzQb2pQm"
   },
   "outputs": [
    {
     "name": "stdout",
     "output_type": "stream",
     "text": [
      "Number of states: 307\n"
     ]
    }
   ],
   "source": [
    "print(q)"
   ]
  },
  {
   "cell_type": "markdown",
   "metadata": {
    "id": "I3DVxsut2pQm"
   },
   "source": [
    "\n",
    "Lets create a new grid world environment by defining two walls (one between start and goal and one between goal and the field right to goal). Rewrite the execute method in such way that a an action that would cause a movement through a wall results in staying in the current position (state). The reward should be -1 in any case."
   ]
  },
  {
   "cell_type": "code",
   "execution_count": 45,
   "metadata": {
    "id": "rgv2L11R2pQm"
   },
   "outputs": [],
   "source": [
    "# Exercise\n",
    "\n",
    "class GridWorld2(GridWorld):\n",
    "\n",
    "    def __init__(self):\n",
    "        self.start = (0, 0)\n",
    "        self.goal = (0, 1)\n",
    "        self.position = (0, 0)\n",
    "        self.walls = [((0, 0), (0, 1)), # wall from (0,0) to (0,1)\n",
    "                      ((0, 1), (1, 1))] # wall from (0,1) to (1,1)\n",
    "\n",
    "    def execute(self, action):\n",
    "         # Define the possible moves\n",
    "        move = {'left':(-1,0), 'right':(1,0), 'up':(0,-1), 'down':(0,1)}[action]\n",
    "\n",
    "        # Get the proposed new position based on the action\n",
    "        new_position = (self.position[0] + move[0], self.position[1] + move[1])\n",
    "       # print(new_position)\n",
    "\n",
    "        reward=-1\n",
    "\n",
    "        for wall_start,wall_end in self.walls:\n",
    "            if(self.position == wall_start and new_position == wall_end) or (self.position == wall_end and new_position == wall_start):\n",
    "                return self.position,reward\n",
    "            \n",
    "        #if no wall collision\n",
    "        self.position=new_position\n",
    "        return self.position, reward"
   ]
  },
  {
   "cell_type": "markdown",
   "metadata": {
    "id": "LfJFveI12pQn"
   },
   "source": [
    "When the code was implemented correct the optimal path found should be:\n",
    "\n",
    "Position,  Action -> Next Position <br>\n",
    "(0, 0),    left   -> (-1, 0)<br>\n",
    "(-1, 0),   down   -> (-1, 1)<br>\n",
    "(-1, 1),   right  -> (0, 1)<br>"
   ]
  },
  {
   "cell_type": "code",
   "execution_count": 46,
   "metadata": {
    "id": "YUOXr0BI2pQn"
   },
   "outputs": [
    {
     "name": "stdout",
     "output_type": "stream",
     "text": [
      "(0, 0) left -> (-1, 0)\n",
      "(-1, 0) down -> (-1, 1)\n",
      "(-1, 1) right -> (0, 1)\n"
     ]
    },
    {
     "data": {
      "image/png": "[encoded data removed]",
      "text/plain": [
       "<Figure size 640x480 with 1 Axes>"
      ]
     },
     "metadata": {},
     "output_type": "display_data"
    }
   ],
   "source": [
    "env = GridWorld2()\n",
    "q = q_learning(env, nr_episodes=1000, nr_steps=100, epsilon=0.1, alpha=0.1, gamma=0.98)\n",
    "\n",
    "env.reset()\n",
    "best_path = []\n",
    "for _ in range (10):\n",
    "    state = env.get_state()\n",
    "    actions = env.get_actions()\n",
    "    if not actions:\n",
    "        break # final state reached\n",
    "\n",
    "    action = q.max_action(state, actions, learning=False)\n",
    "    next_state, _ = env.execute(action)\n",
    "    print(state, action, '->', next_state)\n",
    "\n",
    "    best_path.append((state, action))\n",
    "\n",
    "env.draw(best_path)"
   ]
  },
  {
   "cell_type": "markdown",
   "metadata": {
    "id": "BJKBRnZA2pQn"
   },
   "source": [
    "Lower the amount of episodes (nr_episodes) to different values.\n",
    "At least try 10, 50, 200 and 500.\n",
    "\n",
    "Plot the best path for each of the values."
   ]
  },
  {
   "cell_type": "code",
   "execution_count": 47,
   "metadata": {
    "id": "D81FMy8CM3_H"
   },
   "outputs": [
    {
     "name": "stdout",
     "output_type": "stream",
     "text": [
      "Running Q-learning with 10 episodes...\n",
      "Best path for 10 episodes:\n"
     ]
    },
    {
     "data": {
      "image/png": "[encoded data removed]",
      "text/plain": [
       "<Figure size 640x480 with 1 Axes>"
      ]
     },
     "metadata": {},
     "output_type": "display_data"
    },
    {
     "name": "stdout",
     "output_type": "stream",
     "text": [
      "Running Q-learning with 50 episodes...\n",
      "Best path for 50 episodes:\n"
     ]
    },
    {
     "data": {
      "image/png": "[encoded data removed]",
      "text/plain": [
       "<Figure size 640x480 with 1 Axes>"
      ]
     },
     "metadata": {},
     "output_type": "display_data"
    },
    {
     "name": "stdout",
     "output_type": "stream",
     "text": [
      "Running Q-learning with 200 episodes...\n",
      "Best path for 200 episodes:\n"
     ]
    },
    {
     "data": {
      "image/png": "[encoded data removed]",
      "text/plain": [
       "<Figure size 640x480 with 1 Axes>"
      ]
     },
     "metadata": {},
     "output_type": "display_data"
    },
    {
     "name": "stdout",
     "output_type": "stream",
     "text": [
      "Running Q-learning with 500 episodes...\n",
      "Best path for 500 episodes:\n"
     ]
    },
    {
     "data": {
      "image/png": "[encoded data removed]",
      "text/plain": [
       "<Figure size 640x480 with 1 Axes>"
      ]
     },
     "metadata": {},
     "output_type": "display_data"
    }
   ],
   "source": [
    "import matplotlib.pyplot as plt\n",
    "\n",
    "# Test function to train and plot best path for different nr_episodes\n",
    "def test_q_learning_with_different_episodes(env, episode_values=[10, 50, 200, 500]):\n",
    "    # Loop over different values for nr_episodes\n",
    "    for nr_episodes in episode_values:\n",
    "        # Run Q-learning with the current number of episodes\n",
    "        print(f\"Running Q-learning with {nr_episodes} episodes...\")\n",
    "        q = q_learning(env, nr_episodes=nr_episodes, nr_steps=100)\n",
    "        \n",
    "        # Reset the environment\n",
    "        env.reset()\n",
    "        best_path = []\n",
    "\n",
    "        # Generate best path using the trained Q-values\n",
    "        for _ in range(10):  # Limit to 10 steps\n",
    "            state = env.get_state()\n",
    "            actions = env.get_actions()\n",
    "            if not actions:\n",
    "                break  # Goal reached\n",
    "\n",
    "            action = q.max_action(state, actions, learning=False)\n",
    "            next_state, _ = env.execute(action)\n",
    "\n",
    "            best_path.append((state, action))\n",
    "\n",
    "        # Plot the best path for this value of nr_episodes\n",
    "        print(f\"Best path for {nr_episodes} episodes:\")\n",
    "        env.draw(best_path)\n",
    "        plt.title(f\"Best Path with {nr_episodes} Episodes\")\n",
    "        plt.show()\n",
    "\n",
    "# Test with different episode values\n",
    "env = GridWorld2()  # Initialize the environment\n",
    "test_q_learning_with_different_episodes(env, episode_values=[10, 50, 200, 500])\n"
   ]
  },
  {
   "cell_type": "markdown",
   "metadata": {
    "id": "o-kpO8hwhJAm"
   },
   "source": [
    "\n",
    "Now we will focus on trying out different environments\n",
    "\n",
    "You will need to write your own environment class and apply $Q$-learning to it.\n",
    "\n",
    "---\n",
    "\n",
    "You may apply parameter optimisation techniques, like grid search, to find the best parameter for $\\epsilon$, $\\gamma$ and $\\alpha$.\n",
    "\n",
    "Therefore, you have to define a score function for the learned $Q$ values.\n",
    "\n",
    "Try to find a convenient solution"
   ]
  },
  {
   "cell_type": "markdown",
   "metadata": {
    "id": "K3h61G_W89fd"
   },
   "source": [
    "We will start by creating a environment where both the goal and the start can be placed on any (random or chosen) location.\n",
    "\n",
    "\n"
   ]
  },
  {
   "cell_type": "code",
   "execution_count": null,
   "metadata": {
    "id": "OUkIMFxBhIoK"
   },
   "outputs": [],
   "source": [
    "#Edit this class\n",
    "\n",
    "class random_GridWorld(Environment):\n",
    "\n",
    "    def __init__(self):\n",
    "        pass\n",
    "\n",
    "    def reset(self):\n",
    "        pass\n",
    "\n",
    "    def get_state(self):\n",
    "        pass\n",
    "\n",
    "    def get_actions(self):\n",
    "        pass\n",
    "\n",
    "    def set_start(self,position):\n",
    "        pass\n",
    "\n",
    "    def set_goal(self,position):\n",
    "        pass\n",
    "\n",
    "    def execute(self, action):\n",
    "        pass\n",
    "\n",
    "    def draw(self, path=[]):\n",
    "        pass"
   ]
  },
  {
   "cell_type": "code",
   "execution_count": 100,
   "metadata": {},
   "outputs": [],
   "source": [
    "def draw_gridworld2(env, path=[]):\n",
    "    plt.figure(figsize=(6, 6))\n",
    "    plt.plot()\n",
    "    plt.xlim(-1, env.size[0])\n",
    "    plt.ylim(env.size[1], -1)\n",
    "    plt.grid()\n",
    "    plt.xticks(range(env.size[0]))\n",
    "    plt.yticks(range(env.size[1]))\n",
    "    plt.gca().set_xticklabels([])\n",
    "    plt.gca().set_yticklabels([])\n",
    "\n",
    "    # Annotate start and goal positions\n",
    "    plt.annotate('Goal ' + str(env.goal), \n",
    "                 (env.goal[0] + 0.2, env.goal[1] + 0.5), \n",
    "                 fontsize=10, color='green')\n",
    "    plt.annotate('Start ' + str(env.start), \n",
    "                 (env.start[0] + 0.2, env.start[1] + 0.5), \n",
    "                 fontsize=10, color='blue')\n",
    "\n",
    "    # Draw walls\n",
    "    for (x1, y1), (x2, y2) in env.walls:\n",
    "        if x1 == x2:  # Vertical wall\n",
    "            plt.plot([x1, x1], [min(y1, y2), max(y1, y2) + 1], color='black', linewidth=2)\n",
    "        elif y1 == y2:  # Horizontal wall\n",
    "            plt.plot([min(x1, x2), max(x1, x2) + 1], [y1, y1], color='black', linewidth=2)\n",
    "\n",
    "    # Draw path\n",
    "    for (x, y), action in path:\n",
    "        plt.scatter(x + 0.5, y + 0.5, s=100, \n",
    "                    marker={'left': '<', 'right': '>', 'up': 'v', 'down': '^'}[action],\n",
    "                    color='orange')\n",
    "\n",
    "    plt.show()\n"
   ]
  },
  {
   "cell_type": "code",
   "execution_count": 101,
   "metadata": {},
   "outputs": [
    {
     "name": "stdout",
     "output_type": "stream",
     "text": [
      "Testing: epsilon=0.1, gamma=0.9, alpha=0.1\n",
      "Score (steps to goal): 8\n",
      "Testing: epsilon=0.1, gamma=0.9, alpha=0.5\n",
      "Score (steps to goal): 8\n",
      "Testing: epsilon=0.1, gamma=0.9, alpha=0.9\n",
      "Score (steps to goal): 8\n",
      "Testing: epsilon=0.1, gamma=0.95, alpha=0.1\n",
      "Score (steps to goal): 100\n",
      "Testing: epsilon=0.1, gamma=0.95, alpha=0.5\n",
      "Score (steps to goal): 8\n",
      "Testing: epsilon=0.1, gamma=0.95, alpha=0.9\n",
      "Score (steps to goal): 8\n",
      "Testing: epsilon=0.1, gamma=0.98, alpha=0.1\n",
      "Score (steps to goal): 100\n",
      "Testing: epsilon=0.1, gamma=0.98, alpha=0.5\n",
      "Score (steps to goal): 8\n",
      "Testing: epsilon=0.1, gamma=0.98, alpha=0.9\n",
      "Score (steps to goal): 8\n",
      "Testing: epsilon=0.2, gamma=0.9, alpha=0.1\n",
      "Score (steps to goal): 100\n",
      "Testing: epsilon=0.2, gamma=0.9, alpha=0.5\n",
      "Score (steps to goal): 8\n",
      "Testing: epsilon=0.2, gamma=0.9, alpha=0.9\n",
      "Score (steps to goal): 8\n",
      "Testing: epsilon=0.2, gamma=0.95, alpha=0.1\n",
      "Score (steps to goal): 100\n",
      "Testing: epsilon=0.2, gamma=0.95, alpha=0.5\n",
      "Score (steps to goal): 8\n",
      "Testing: epsilon=0.2, gamma=0.95, alpha=0.9\n",
      "Score (steps to goal): 8\n",
      "Testing: epsilon=0.2, gamma=0.98, alpha=0.1\n",
      "Score (steps to goal): 100\n",
      "Testing: epsilon=0.2, gamma=0.98, alpha=0.5\n",
      "Score (steps to goal): 8\n",
      "Testing: epsilon=0.2, gamma=0.98, alpha=0.9\n",
      "Score (steps to goal): 8\n",
      "Testing: epsilon=0.3, gamma=0.9, alpha=0.1\n",
      "Score (steps to goal): 100\n",
      "Testing: epsilon=0.3, gamma=0.9, alpha=0.5\n",
      "Score (steps to goal): 8\n",
      "Testing: epsilon=0.3, gamma=0.9, alpha=0.9\n",
      "Score (steps to goal): 8\n",
      "Testing: epsilon=0.3, gamma=0.95, alpha=0.1\n",
      "Score (steps to goal): 100\n",
      "Testing: epsilon=0.3, gamma=0.95, alpha=0.5\n",
      "Score (steps to goal): 8\n",
      "Testing: epsilon=0.3, gamma=0.95, alpha=0.9\n",
      "Score (steps to goal): 8\n",
      "Testing: epsilon=0.3, gamma=0.98, alpha=0.1\n",
      "Score (steps to goal): 100\n",
      "Testing: epsilon=0.3, gamma=0.98, alpha=0.5\n",
      "Score (steps to goal): 8\n",
      "Testing: epsilon=0.3, gamma=0.98, alpha=0.9\n",
      "Score (steps to goal): 8\n",
      "Best parameters: (0.1, 0.9, 0.1) with score: 8\n"
     ]
    }
   ],
   "source": [
    "import random\n",
    "\n",
    "class random_GridWorld(Environment):\n",
    "    def __init__(self, size=(5, 5)):\n",
    "        self.size = size\n",
    "        self.start = (0, 0)\n",
    "        self.goal = (size[0]-1, size[1]-1)\n",
    "        self.position = self.start\n",
    "        self.walls = []\n",
    "        \n",
    "    def reset(self):\n",
    "        '''Reset environment to initial state.'''\n",
    "        self.position = self.start\n",
    "\n",
    "    def get_state(self):\n",
    "        '''Return current position.'''\n",
    "        return self.position\n",
    "\n",
    "    def get_actions(self):\n",
    "        '''Return all allowed actions as list (might be empty).'''\n",
    "        x, y = self.position\n",
    "        actions = []\n",
    "        \n",
    "        # Can move up, down, left, right unless at borders or walls\n",
    "        if x > 0: actions.append('left')   # Can move left\n",
    "        if x < self.size[0] - 1: actions.append('right')  # Can move right\n",
    "        if y > 0: actions.append('down')   # Can move down\n",
    "        if y < self.size[1] - 1: actions.append('up')     # Can move up\n",
    "        \n",
    "        return actions\n",
    "\n",
    "    def set_start(self, position):\n",
    "        '''Set the start position.'''\n",
    "        self.start = position\n",
    "        self.position = position\n",
    "\n",
    "    def set_goal(self, position):\n",
    "        '''Set the goal position.'''\n",
    "        self.goal = position\n",
    "\n",
    "    def execute(self, action):\n",
    "        '''Execute action and return new state, reward.'''\n",
    "        x, y = self.position\n",
    "        reward = -1  # Reward for each action is -1\n",
    "        \n",
    "        # Move based on action\n",
    "        if action == 'left' and x > 0: \n",
    "            x -= 1\n",
    "        elif action == 'right' and x < self.size[0] - 1:\n",
    "            x += 1\n",
    "        elif action == 'up' and y < self.size[1] - 1:\n",
    "            y += 1\n",
    "        elif action == 'down' and y > 0:\n",
    "            y -= 1\n",
    "        \n",
    "        self.position = (x, y)\n",
    "        \n",
    "        # Goal reached: reward 0, terminate episode\n",
    "        if self.position == self.goal:\n",
    "            reward = 0\n",
    "        return self.position, reward\n",
    "\n",
    "    def draw(self, path=[]):\n",
    "        draw_gridworld2(self, path)\n",
    "\n",
    "\n",
    "\n",
    "# Score function: Evaluate learned Q-values based on how efficiently agent reaches goal\n",
    "def evaluate_q_learning(env, q, max_steps=100):\n",
    "    '''Evaluate the Q-learning agent by following the best path and counting steps.'''\n",
    "    env.reset()\n",
    "    total_steps = 0\n",
    "    while total_steps < max_steps:\n",
    "        state = env.get_state()\n",
    "        actions = env.get_actions()\n",
    "        if not actions:\n",
    "            break  # Goal reached\n",
    "        \n",
    "        action = q.max_action(state, actions, learning=False)\n",
    "        next_state, reward = env.execute(action)\n",
    "        total_steps += 1\n",
    "        \n",
    "        if next_state == env.goal:\n",
    "            break  # Reached the goal\n",
    "\n",
    "    # Return the number of steps taken to reach the goal\n",
    "    return total_steps\n",
    "\n",
    "# Grid search for parameter optimization: test different values of epsilon, gamma, alpha\n",
    "def grid_search(env, epsilons, gammas, alphas, nr_episodes=100, nr_steps=100):\n",
    "    best_score = float('inf')\n",
    "    best_params = None\n",
    "    best_q = None\n",
    "    \n",
    "    # Iterate over parameter grid\n",
    "    for epsilon in epsilons:\n",
    "        for gamma in gammas:\n",
    "            for alpha in alphas:\n",
    "                print(f\"Testing: epsilon={epsilon}, gamma={gamma}, alpha={alpha}\")\n",
    "                q = q_learning(env, nr_episodes=nr_episodes, nr_steps=nr_steps, epsilon=epsilon, gamma=gamma, alpha=alpha)\n",
    "                \n",
    "                # Evaluate the learned policy (Q-values) using score function\n",
    "                score = evaluate_q_learning(env, q)\n",
    "                \n",
    "                print(f\"Score (steps to goal): {score}\")\n",
    "                if score < best_score:\n",
    "                    best_score = score\n",
    "                    best_params = (epsilon, gamma, alpha)\n",
    "                    best_q = q\n",
    "    \n",
    "    print(f\"Best parameters: {best_params} with score: {best_score}\")\n",
    "    return best_q, best_params\n",
    "\n",
    "# Example usage of grid search with different epsilon, gamma, and alpha values\n",
    "env = random_GridWorld()\n",
    "epsilons = [0.1, 0.2, 0.3]\n",
    "gammas = [0.9, 0.95, 0.98]\n",
    "alphas = [0.1, 0.5, 0.9]\n",
    "best_q, best_params = grid_search(env, epsilons, gammas, alphas, nr_episodes=200, nr_steps=100)\n"
   ]
  },
  {
   "cell_type": "markdown",
   "metadata": {
    "id": "Qg-aoWJYlFX0"
   },
   "source": [
    "Train your model on a gridworld with the goal at (5,5) and two additional walls (4 total).\n",
    "\n",
    "Plot the best path."
   ]
  },
  {
   "cell_type": "code",
   "execution_count": 105,
   "metadata": {
    "id": "Wx25vX1diK-N"
   },
   "outputs": [
    {
     "name": "stdout",
     "output_type": "stream",
     "text": [
      "Best Path: [((0, 0), 'up'), ((0, 1), 'up'), ((0, 2), 'up'), ((0, 3), 'up'), ((0, 4), 'up'), ((0, 5), 'right'), ((1, 5), 'right'), ((2, 5), 'right'), ((3, 5), 'right'), ((4, 5), 'right')]\n"
     ]
    },
    {
     "data": {
      "image/png": "[encoded data removed]",
      "text/plain": [
       "<Figure size 600x600 with 1 Axes>"
      ]
     },
     "metadata": {},
     "output_type": "display_data"
    }
   ],
   "source": [
    "class GridWorldWithWalls(random_GridWorld):\n",
    "    def __init__(self):\n",
    "        super().__init__(size=(6, 6))\n",
    "        self.start = (0, 0)\n",
    "        self.goal = (5, 5)\n",
    "        self.position = self.start\n",
    "        self.walls = [((1, 1), (1, 2)),  # Wall 1\n",
    "                      ((2, 3), (3, 3)),  # Wall 2\n",
    "                      ((4, 4), (5, 4)),  # Wall 3\n",
    "                      ((3, 2), (3, 3))]  # Wall 4\n",
    "\n",
    "    def execute(self, action):\n",
    "        '''Execute action considering walls and return new state and reward.'''\n",
    "        x, y = self.position\n",
    "        move = {'left': (-1, 0), 'right': (1, 0), 'up': (0, 1), 'down': (0, -1)}[action]\n",
    "        new_position = (x + move[0], y + move[1])\n",
    "        \n",
    "        # Check if the move crosses any wall\n",
    "        for wall in self.walls:\n",
    "            if (self.position, new_position) in wall or (new_position, self.position) in wall:\n",
    "                # Hit a wall: stay in the current position\n",
    "                return self.position, -1\n",
    "        \n",
    "        # Update position if no wall blocks the move\n",
    "        if 0 <= new_position[0] < self.size[0] and 0 <= new_position[1] < self.size[1]:\n",
    "            self.position = new_position\n",
    "        \n",
    "        # Goal reached\n",
    "        reward = 0 if self.position == self.goal else -1\n",
    "        return self.position, reward\n",
    "\n",
    "# Train the model on the new grid world\n",
    "env = GridWorldWithWalls()\n",
    "q = q_learning(env, nr_episodes=1000, nr_steps=100, epsilon=0.1, alpha=0.1, gamma=0.98)\n",
    "\n",
    "# Derive the best path using the learned Q-values\n",
    "env.reset()\n",
    "best_path = []\n",
    "for _ in range(20):  # Limit the number of steps to prevent infinite loops\n",
    "    state = env.get_state()\n",
    "    actions = env.get_actions()\n",
    "    if not actions or state == env.goal:\n",
    "        break  # Stop if no actions are possible or the goal is reached\n",
    "    \n",
    "    action = q.max_action(state, actions, learning=False)\n",
    "    next_state, _ = env.execute(action)\n",
    "    best_path.append((state, action))\n",
    "\n",
    "# Visualize the best path\n",
    "print(\"Best Path:\", best_path)\n",
    "env.draw(best_path)\n",
    "\n"
   ]
  },
  {
   "cell_type": "markdown",
   "metadata": {
    "id": "sgbWkmAemakX"
   },
   "source": [
    "Create your own Gridworld that is different to the previous environments in a significant way.\n",
    "\n",
    "For example,\n",
    "\n",
    "-Moving right causes you to move 2 grids instead of 1\n",
    "\n",
    "-Add diagonal movement\n",
    "\n",
    "-Create \"booster\" fields with a non-zero reward if stepped over once\n",
    "\n",
    "Again don't forget to print the best path for each.\n",
    "\n",
    "---\n",
    "\n",
    "You may apply parameter optimisation techniques, like grid search, to find the best parameter for $\\epsilon$, $\\gamma$ and $\\alpha$.\n",
    "\n",
    "Therefore, you have to define a score function for the learned $Q$ values.\n"
   ]
  },
  {
   "cell_type": "code",
   "execution_count": 98,
   "metadata": {
    "id": "pIUt9_Vrm4qQ"
   },
   "outputs": [],
   "source": [
    "#Edit this class\n",
    "\n",
    "class My_Own_GridWorld(Environment):\n",
    "\n",
    "    def __init__(self):\n",
    "        pass\n",
    "\n",
    "    def reset(self):\n",
    "        pass\n",
    "\n",
    "    def get_state(self):\n",
    "        pass\n",
    "\n",
    "    def get_actions(self):\n",
    "        pass\n",
    "\n",
    "    def execute(self, action):\n",
    "        pass\n",
    "\n",
    "    def draw(self, path=[]):\n",
    "        pass"
   ]
  },
  {
   "cell_type": "code",
   "execution_count": 114,
   "metadata": {},
   "outputs": [],
   "source": [
    "def draw_gridworld3(env, path=[]):\n",
    "    import matplotlib.pyplot as plt\n",
    "\n",
    "    plt.figure(figsize=(6, 6))\n",
    "    plt.xlim(-1, env.size[0])\n",
    "    plt.ylim(env.size[1], -1)\n",
    "    plt.grid()\n",
    "    plt.xticks(range(env.size[0]))\n",
    "    plt.yticks(range(env.size[1]))\n",
    "    plt.gca().set_xticklabels([])\n",
    "    plt.gca().set_yticklabels([])\n",
    "\n",
    "    # Annotate start and goal\n",
    "    plt.annotate('Goal ' + str(env.goal), (env.goal[0] + 0.25, env.goal[1] + 0.5), color='green', weight='bold')\n",
    "    plt.annotate('Start ' + str(env.start), (env.start[0] + 0.25, env.start[1] + 0.5), color='blue', weight='bold')\n",
    "\n",
    "    # Draw walls\n",
    "    for (x1, y1), (x2, y2) in env.walls:\n",
    "        if x1 == x2:  # Vertical wall\n",
    "            plt.plot([x1, x1], [min(y1, y2), max(y1, y2) + 1], c='k', linewidth=2)\n",
    "        else:  # Horizontal wall\n",
    "            plt.plot([min(x1, x2), max(x1, x2) + 1], [y1, y1], c='k', linewidth=2)\n",
    "\n",
    "    # Highlight booster fields\n",
    "    for (x, y), reward in env.boosters.items():\n",
    "        plt.scatter(x + 0.5, y + 0.5, s=200, c='yellow', edgecolor='black', label=f'Booster {reward}')\n",
    "    if env.boosters:\n",
    "        plt.legend(loc='lower left', fontsize='small')\n",
    "\n",
    "    # Plot path with arrows\n",
    "    for (x, y), action in path:\n",
    "        plt.scatter(x + 0.5, y + 0.5, s=100, marker={\n",
    "            'left': '<', 'right': '>', 'up': '^', 'down': 'v',\n",
    "            'up-left': '1', 'up-right': '2', 'down-left': '3', 'down-right': '4'\n",
    "        }[action], c='red')\n",
    "\n",
    "    plt.show()\n"
   ]
  },
  {
   "cell_type": "code",
   "execution_count": 116,
   "metadata": {},
   "outputs": [],
   "source": [
    "class My_Own_GridWorld(Environment):\n",
    "    def __init__(self):\n",
    "        # Grid size and elements\n",
    "        self.size = (5, 5)  # A 5x5 grid\n",
    "        self.start = (0, 0)\n",
    "        self.goal = (4, 4)\n",
    "        self.position = (0, 0)\n",
    "        self.boosters = {(1, 1): 5, (3, 3): 10}  # Booster fields with extra rewards\n",
    "        self.walls = [((2, 2), (2, 3)), ((3, 1), (4, 1))]  # Walls\n",
    "        self.move_cost = -1  # Cost for each move\n",
    "\n",
    "    def reset(self):\n",
    "        self.position = self.start\n",
    "\n",
    "    def get_state(self):\n",
    "        return self.position\n",
    "\n",
    "    def get_actions(self):\n",
    "        if self.position == self.goal:\n",
    "            return []  # No actions possible at goal\n",
    "        return ['left', 'right', 'up', 'down', 'up-left', 'up-right', 'down-left', 'down-right']\n",
    "\n",
    "    def execute(self, action):\n",
    "        current_position = self.get_state()\n",
    "        # Define movement rules\n",
    "        move = {\n",
    "            'left': (-1, 0),\n",
    "            'right': (2, 0),  # Move two grids to the right\n",
    "            'up': (0, -1),\n",
    "            'down': (0, 1),\n",
    "            'up-left': (-1, -1),\n",
    "            'up-right': (1, -1),\n",
    "            'down-left': (-1, 1),\n",
    "            'down-right': (1, 1)\n",
    "        }[action]\n",
    "\n",
    "        # Calculate the new position\n",
    "        new_position = (current_position[0] + move[0], current_position[1] + move[1])\n",
    "\n",
    "        # Check if the new position is out of bounds\n",
    "        if (new_position[0] < 0 or new_position[0] >= self.size[0] or\n",
    "                new_position[1] < 0 or new_position[1] >= self.size[1]):\n",
    "            new_position = current_position\n",
    "\n",
    "        # Check if the new position collides with walls\n",
    "        if any(self._crosses_wall(current_position, new_position, wall) for wall in self.walls):\n",
    "            new_position = current_position\n",
    "\n",
    "        # Update the position\n",
    "        self.position = new_position\n",
    "\n",
    "        # Calculate the reward\n",
    "        reward = self.move_cost\n",
    "        if new_position in self.boosters:\n",
    "            reward += self.boosters[new_position]\n",
    "\n",
    "        return new_position, reward\n",
    "\n",
    "    def _crosses_wall(self, pos1, pos2, wall):\n",
    "        \"\"\"Helper to check if a move crosses a wall.\"\"\"\n",
    "        (x1, y1), (x2, y2) = wall\n",
    "        return (pos1, pos2) == wall or (pos2, pos1) == wall\n",
    "\n",
    "    def draw(self, path=[]):\n",
    "        draw_gridworld3(self, path)\n"
   ]
  },
  {
   "cell_type": "code",
   "execution_count": 123,
   "metadata": {
    "id": "tH7cOn2qns32"
   },
   "outputs": [
    {
     "name": "stdout",
     "output_type": "stream",
     "text": [
      "Best Path: [((0, 0), 'down-right'), ((1, 1), 'down-right'), ((2, 2), 'down-right'), ((3, 3), 'right'), ((3, 3), 'right'), ((3, 3), 'right'), ((3, 3), 'right'), ((3, 3), 'right'), ((3, 3), 'right'), ((3, 3), 'right'), ((3, 3), 'right'), ((3, 3), 'right'), ((3, 3), 'right'), ((3, 3), 'right'), ((3, 3), 'right'), ((3, 3), 'right'), ((3, 3), 'right'), ((3, 3), 'right'), ((3, 3), 'right'), ((3, 3), 'right')]\n"
     ]
    },
    {
     "data": {
      "image/png": "[encoded data removed]",
      "text/plain": [
       "<Figure size 600x600 with 1 Axes>"
      ]
     },
     "metadata": {},
     "output_type": "display_data"
    }
   ],
   "source": [
    "env = My_Own_GridWorld()\n",
    "q = q_learning(env, nr_episodes=1000, nr_steps=100, epsilon=0.1, alpha=0.1, gamma=0.98)\n",
    "\n",
    "env.reset()\n",
    "best_path = []\n",
    "for _ in range(20):\n",
    "    state = env.get_state()\n",
    "    actions = env.get_actions()\n",
    "    if not actions or state == env.goal:\n",
    "        break\n",
    "    action = q.max_action(state, actions, learning=False)\n",
    "    next_state, _ = env.execute(action)\n",
    "    best_path.append((state, action))\n",
    "\n",
    "print(\"Best Path:\", best_path)\n",
    "env.draw(best_path)\n"
   ]
  }
 ],
 "metadata": {
  "colab": {
   "provenance": [],
   "toc_visible": true
  },
  "kernelspec": {
   "display_name": "Python 3",
   "language": "python",
   "name": "python3"
  },
  "language_info": {
   "codemirror_mode": {
    "name": "ipython",
    "version": 3
   },
   "file_extension": ".py",
   "mimetype": "text/x-python",
   "name": "python",
   "nbconvert_exporter": "python",
   "pygments_lexer": "ipython3",
   "version": "3.12.6"
  }
 },
 "nbformat": 4,
 "nbformat_minor": 0
}
